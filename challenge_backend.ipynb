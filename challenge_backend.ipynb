{
 "cells": [
  {
   "cell_type": "markdown",
   "metadata": {},
   "source": [
    "# About me"
   ]
  },
  {
   "cell_type": "code",
   "execution_count": 62,
   "metadata": {},
   "outputs": [],
   "source": [
    "# Challenge for Fintual application \n",
    "# To give the challenge a plus, I use yfinance library to get some stock prices, interpolating the missing data"
   ]
  },
  {
   "attachments": {},
   "cell_type": "markdown",
   "metadata": {},
   "source": [
    "# Imports"
   ]
  },
  {
   "cell_type": "code",
   "execution_count": 63,
   "metadata": {},
   "outputs": [
    {
     "data": {
      "text/plain": [
       "'0.2.54'"
      ]
     },
     "execution_count": 63,
     "metadata": {},
     "output_type": "execute_result"
    }
   ],
   "source": [
    "from datetime import datetime\n",
    "from typing import List\n",
    "import yfinance as yf # using version 0.2.54\n",
    "import pandas as pd\n",
    "import random\n",
    "\n",
    "yf.__version__"
   ]
  },
  {
   "cell_type": "code",
   "execution_count": 64,
   "metadata": {},
   "outputs": [],
   "source": [
    "class Stock:\n",
    "    \n",
    "    def __init__(self, name: str, yf_name: str):\n",
    "        self.name = name # Stock name\n",
    "        self.yf_name = yf_name # Stock name for yfinance library\n",
    "    \n",
    "    def yf_download(self) -> pd.DataFrame:\n",
    "        df = yf.download(self.yf_name) # download info from yfinance\n",
    "        df = df.reset_index()\n",
    "        df['Date'] = pd.to_datetime(df['Date'], format = '%Y-%m-%d').dt.date # date format\n",
    "        df.columns = ['DATE', 'Close', 'High', 'Low', 'Open', 'Volume'] # columns names\n",
    "        df = df.rename(columns = {'Close': 'PRICE', 'Date': 'DATE'}) # rename column\n",
    "        df = df[['DATE', 'PRICE']] # select columns\n",
    "        \n",
    "        #display(df)\n",
    "        # using interpolatation to complete all dates\n",
    "        df_dates = pd.DataFrame({'DATE': pd.date_range(start = df['DATE'].min(), end = df['DATE'].max())})\n",
    "        df_dates['DATE'] = pd.to_datetime(df_dates['DATE'], format = '%Y-%m-%d').dt.date\n",
    "        #display(df_dates)\n",
    "        self.df_prices = pd.merge(df_dates, df, on = 'DATE', how = 'left')\n",
    "        self.df_prices['PRICE'] = self.df_prices['PRICE'].interpolate()\n",
    "        \n",
    "        return None\n",
    "    \n",
    "    def get_price_dict(self): # return relation between dates and prices\n",
    "        self.yf_download()\n",
    "        self.prices_dict = dict(zip(self.df_prices['DATE'], self.df_prices['PRICE']))\n",
    "        \n",
    "        return None\n",
    "    \n",
    "    def get_price(self, date: str) -> float:\n",
    "        date = datetime.strptime(date, \"%Y-%m-%d\").date() # date format \n",
    "        return self.prices_dict[date] # return price of stock in a date\n",
    "        \n",
    "\n",
    "class Portfolio:\n",
    "    \n",
    "    def __init__(self):\n",
    "        self.stocks_list = [] # List of stocks\n",
    "    \n",
    "    def add_stock(self, stock: Stock, quantity: float) -> None: # stock object and quantity of stock\n",
    "        self.stocks_list.append((stock, quantity)) # add stock to list with its quantity\n",
    "    \n",
    "    def get_profit(self, start_date: str, end_date: str, annualized: bool = False) -> float:\n",
    "        ''' Get profit from portfolio between two dates '''\n",
    "        ''' if annualized is True, return annualized profit '''\n",
    "        \n",
    "        initial_value = sum(stock.get_price(start_date) * quantity for stock, quantity in self.stocks_list) # initial value of portfolio\n",
    "        final_value = sum(stock.get_price(end_date) * quantity for stock, quantity in self.stocks_list) # final value of portfolio\n",
    "\n",
    "        profit = final_value / initial_value - 1  # Return\n",
    "\n",
    "        if annualized:\n",
    "            start = datetime.strptime(start_date, \"%Y-%m-%d\")\n",
    "            end = datetime.strptime(end_date, \"%Y-%m-%d\")\n",
    "            years = (end - start).days / 365.25 # Calculate of CAGR\n",
    "            return (1 + profit) ** (1 / years) - 1  # Fórmula de retorno anualizado\n",
    "\n",
    "        return profit"
   ]
  },
  {
   "cell_type": "markdown",
   "metadata": {},
   "source": [
    "# Example"
   ]
  },
  {
   "cell_type": "code",
   "execution_count": 65,
   "metadata": {},
   "outputs": [],
   "source": [
    "initial_date, final_date = '2020-01-01', '2025-03-01'"
   ]
  },
  {
   "cell_type": "code",
   "execution_count": 66,
   "metadata": {},
   "outputs": [
    {
     "name": "stderr",
     "output_type": "stream",
     "text": [
      "[*********************100%***********************]  1 of 1 completed\n"
     ]
    },
    {
     "name": "stdout",
     "output_type": "stream",
     "text": [
      "Stock Name: Apple | Initial Price: 71.91 | Quantity: 1.04 | Initial USD: 74.65\n"
     ]
    },
    {
     "name": "stderr",
     "output_type": "stream",
     "text": [
      "[*********************100%***********************]  1 of 1 completed\n"
     ]
    },
    {
     "name": "stdout",
     "output_type": "stream",
     "text": [
      "Stock Name: Microsoft | Initial Price: 151.93 | Quantity: 0.41 | Initial USD: 61.82\n"
     ]
    },
    {
     "name": "stderr",
     "output_type": "stream",
     "text": [
      "[*********************100%***********************]  1 of 1 completed\n"
     ]
    },
    {
     "name": "stdout",
     "output_type": "stream",
     "text": [
      "Stock Name: Amazon | Initial Price: 93.65 | Quantity: 0.96 | Initial USD: 89.84\n"
     ]
    },
    {
     "name": "stderr",
     "output_type": "stream",
     "text": [
      "[*********************100%***********************]  1 of 1 completed\n"
     ]
    },
    {
     "name": "stdout",
     "output_type": "stream",
     "text": [
      "Stock Name: Google | Initial Price: 67.46 | Quantity: 1.42 | Initial USD: 95.69\n"
     ]
    },
    {
     "name": "stderr",
     "output_type": "stream",
     "text": [
      "[*********************100%***********************]  1 of 1 completed"
     ]
    },
    {
     "name": "stdout",
     "output_type": "stream",
     "text": [
      "Stock Name: Bitcoin | Initial Price: 7200.17 | Quantity: 0.0 | Initial USD: 31.5\n",
      "Profit: 247.34%\n",
      "Annualized Profit: 27.27 %\n"
     ]
    },
    {
     "name": "stderr",
     "output_type": "stream",
     "text": [
      "\n"
     ]
    }
   ],
   "source": [
    "stocks_0 = {'Apple': 'AAPL', 'Microsoft': 'MSFT', 'Amazon': 'AMZN', 'Google': 'GOOGL', 'Bitcoin': 'BTC-USD'}\n",
    "\n",
    "stocks_objects = {}\n",
    "portfolio = Portfolio() # Initialize portfolio object\n",
    "\n",
    "for name in stocks_0:\n",
    "    stock = Stock(name, stocks_0[name])\n",
    "    stock.get_price_dict()\n",
    "    initial_price = stock.get_price(initial_date) # get initial price of stock\n",
    "    \n",
    "    stock_usd = 10 + 90 * random.random() # random usd between 10 and 100\n",
    "    quantity = stock_usd / initial_price\n",
    "    portfolio.add_stock(stock, quantity) # add stock\n",
    "    \n",
    "    print(f'Stock Name: {name} | Initial Price: {round(initial_price, 2)} | Quantity: {round(quantity, 2)} | Initial USD: {round(stock_usd, 2)}')\n",
    "    \n",
    "    stocks_objects[name] = stock # add stock object to dictionary\n",
    "    \n",
    "profit = portfolio.get_profit(initial_date, final_date, annualized = False) # get profit of portfolio\n",
    "print(f'Profit: {round(100 * profit, 2) }%')\n",
    "annualized_profit = portfolio.get_profit(initial_date, final_date, annualized = True) # get annualized profit of portfolio\n",
    "print(f'Annualized Profit: {round(100 * annualized_profit, 2)} %')\n",
    "    "
   ]
  }
 ],
 "metadata": {
  "kernelspec": {
   "display_name": "Python 3",
   "language": "python",
   "name": "python3"
  },
  "language_info": {
   "codemirror_mode": {
    "name": "ipython",
    "version": 3
   },
   "file_extension": ".py",
   "mimetype": "text/x-python",
   "name": "python",
   "nbconvert_exporter": "python",
   "pygments_lexer": "ipython3",
   "version": "3.9.19"
  },
  "orig_nbformat": 4
 },
 "nbformat": 4,
 "nbformat_minor": 2
}
